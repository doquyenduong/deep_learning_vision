{
  "cells": [
    {
      "cell_type": "markdown",
      "metadata": {
        "id": "view-in-github",
        "colab_type": "text"
      },
      "source": [
        "<a href=\"https://colab.research.google.com/github/doquyenduong/deep_learning_vision/blob/main/RNN_Town_Name_Generation.ipynb\" target=\"_parent\"><img src=\"https://colab.research.google.com/assets/colab-badge.svg\" alt=\"Open In Colab\"/></a>"
      ]
    },
    {
      "cell_type": "markdown",
      "metadata": {
        "id": "IDJctDhhEDTD"
      },
      "source": [
        "## Import dependencies"
      ]
    },
    {
      "cell_type": "code",
      "source": [
        "from google.colab import drive\n",
        "drive.mount('/content/drive')"
      ],
      "metadata": {
        "colab": {
          "base_uri": "https://localhost:8080/"
        },
        "id": "08P1cV4osdkU",
        "outputId": "88a13d19-39b5-436c-97fa-bed338530e1b"
      },
      "execution_count": null,
      "outputs": [
        {
          "output_type": "stream",
          "name": "stdout",
          "text": [
            "Drive already mounted at /content/drive; to attempt to forcibly remount, call drive.mount(\"/content/drive\", force_remount=True).\n"
          ]
        }
      ]
    },
    {
      "cell_type": "code",
      "source": [
        "gpu_info = !nvidia-smi\n",
        "gpu_info = '\\n'.join(gpu_info)\n",
        "if gpu_info.find('failed') >= 0:\n",
        "  print('Not connected to a GPU')\n",
        "else:\n",
        "  print(gpu_info)"
      ],
      "metadata": {
        "colab": {
          "base_uri": "https://localhost:8080/"
        },
        "id": "rwKJfAWpGWbR",
        "outputId": "5adfc1a5-49e6-48b3-96da-4a081ce4b0c5"
      },
      "execution_count": null,
      "outputs": [
        {
          "output_type": "stream",
          "name": "stdout",
          "text": [
            "Thu Jun 23 08:46:19 2022       \n",
            "+-----------------------------------------------------------------------------+\n",
            "| NVIDIA-SMI 460.32.03    Driver Version: 460.32.03    CUDA Version: 11.2     |\n",
            "|-------------------------------+----------------------+----------------------+\n",
            "| GPU  Name        Persistence-M| Bus-Id        Disp.A | Volatile Uncorr. ECC |\n",
            "| Fan  Temp  Perf  Pwr:Usage/Cap|         Memory-Usage | GPU-Util  Compute M. |\n",
            "|                               |                      |               MIG M. |\n",
            "|===============================+======================+======================|\n",
            "|   0  Tesla P100-PCIE...  Off  | 00000000:00:04.0 Off |                    0 |\n",
            "| N/A   35C    P0    28W / 250W |      0MiB / 16280MiB |      0%      Default |\n",
            "|                               |                      |                  N/A |\n",
            "+-------------------------------+----------------------+----------------------+\n",
            "                                                                               \n",
            "+-----------------------------------------------------------------------------+\n",
            "| Processes:                                                                  |\n",
            "|  GPU   GI   CI        PID   Type   Process name                  GPU Memory |\n",
            "|        ID   ID                                                   Usage      |\n",
            "|=============================================================================|\n",
            "|  No running processes found                                                 |\n",
            "+-----------------------------------------------------------------------------+\n"
          ]
        }
      ]
    },
    {
      "cell_type": "code",
      "execution_count": null,
      "metadata": {
        "id": "Z2xZnxncD2Ep"
      },
      "outputs": [],
      "source": [
        "# Selecting Tensorflow version v2 (the command is relevant for Colab only).\n",
        "# %tensorflow_version 2.x"
      ]
    },
    {
      "cell_type": "code",
      "execution_count": null,
      "metadata": {
        "colab": {
          "base_uri": "https://localhost:8080/"
        },
        "id": "SpueB6zADYgE",
        "outputId": "3f77501c-5291-452c-fb2d-042e5cded8c0"
      },
      "outputs": [
        {
          "output_type": "stream",
          "name": "stdout",
          "text": [
            "Python version: 3.7.13\n",
            "Tensorflow version: 2.8.2\n",
            "Keras version: 2.8.0\n"
          ]
        }
      ],
      "source": [
        "import tensorflow as tf\n",
        "import tensorflow_datasets as tfds\n",
        "import matplotlib.pyplot as plt\n",
        "import numpy as np\n",
        "import platform\n",
        "import time\n",
        "import pathlib\n",
        "import os\n",
        "import re\n",
        "import string\n",
        "import pandas as pd\n",
        "from keras.layers import Dropout\n",
        "\n",
        "print('Python version:', platform.python_version())\n",
        "print('Tensorflow version:', tf.__version__)\n",
        "print('Keras version:', tf.keras.__version__)"
      ]
    },
    {
      "cell_type": "code",
      "source": [
        "df = pd.read_csv(\"drive/MyDrive/Names/towns.csv\",sep=\";\", encoding=\"ISO-8859-1\")\n",
        "#df[\"name\"] = df[\"name\"]+\" \"\n",
        "df = df[[\"town\"]].reset_index(drop=True)\n",
        "df[\"town\"] = df[\"town\"]+\" \"\n",
        "#df[\"abrv_street_name\"] = df[\"abrv_street_name\"]+\" \"\n",
        "df.head()"
      ],
      "metadata": {
        "id": "Xa0XdDC4sqzi",
        "colab": {
          "base_uri": "https://localhost:8080/",
          "height": 204
        },
        "outputId": "ab8c641d-b275-490d-d9df-f0a75cbd67ba"
      },
      "execution_count": null,
      "outputs": [
        {
          "output_type": "execute_result",
          "data": {
            "text/plain": [
              "                  town\n",
              "0     Aeugst am Albis \n",
              "1  Affoltern am Albis \n",
              "2          Bonstetten \n",
              "3     Hausen am Albis \n",
              "4            Hedingen "
            ],
            "text/html": [
              "\n",
              "  <div id=\"df-71ae6ae7-57d0-4c9c-9166-a83a86cd28c9\">\n",
              "    <div class=\"colab-df-container\">\n",
              "      <div>\n",
              "<style scoped>\n",
              "    .dataframe tbody tr th:only-of-type {\n",
              "        vertical-align: middle;\n",
              "    }\n",
              "\n",
              "    .dataframe tbody tr th {\n",
              "        vertical-align: top;\n",
              "    }\n",
              "\n",
              "    .dataframe thead th {\n",
              "        text-align: right;\n",
              "    }\n",
              "</style>\n",
              "<table border=\"1\" class=\"dataframe\">\n",
              "  <thead>\n",
              "    <tr style=\"text-align: right;\">\n",
              "      <th></th>\n",
              "      <th>town</th>\n",
              "    </tr>\n",
              "  </thead>\n",
              "  <tbody>\n",
              "    <tr>\n",
              "      <th>0</th>\n",
              "      <td>Aeugst am Albis</td>\n",
              "    </tr>\n",
              "    <tr>\n",
              "      <th>1</th>\n",
              "      <td>Affoltern am Albis</td>\n",
              "    </tr>\n",
              "    <tr>\n",
              "      <th>2</th>\n",
              "      <td>Bonstetten</td>\n",
              "    </tr>\n",
              "    <tr>\n",
              "      <th>3</th>\n",
              "      <td>Hausen am Albis</td>\n",
              "    </tr>\n",
              "    <tr>\n",
              "      <th>4</th>\n",
              "      <td>Hedingen</td>\n",
              "    </tr>\n",
              "  </tbody>\n",
              "</table>\n",
              "</div>\n",
              "      <button class=\"colab-df-convert\" onclick=\"convertToInteractive('df-71ae6ae7-57d0-4c9c-9166-a83a86cd28c9')\"\n",
              "              title=\"Convert this dataframe to an interactive table.\"\n",
              "              style=\"display:none;\">\n",
              "        \n",
              "  <svg xmlns=\"http://www.w3.org/2000/svg\" height=\"24px\"viewBox=\"0 0 24 24\"\n",
              "       width=\"24px\">\n",
              "    <path d=\"M0 0h24v24H0V0z\" fill=\"none\"/>\n",
              "    <path d=\"M18.56 5.44l.94 2.06.94-2.06 2.06-.94-2.06-.94-.94-2.06-.94 2.06-2.06.94zm-11 1L8.5 8.5l.94-2.06 2.06-.94-2.06-.94L8.5 2.5l-.94 2.06-2.06.94zm10 10l.94 2.06.94-2.06 2.06-.94-2.06-.94-.94-2.06-.94 2.06-2.06.94z\"/><path d=\"M17.41 7.96l-1.37-1.37c-.4-.4-.92-.59-1.43-.59-.52 0-1.04.2-1.43.59L10.3 9.45l-7.72 7.72c-.78.78-.78 2.05 0 2.83L4 21.41c.39.39.9.59 1.41.59.51 0 1.02-.2 1.41-.59l7.78-7.78 2.81-2.81c.8-.78.8-2.07 0-2.86zM5.41 20L4 18.59l7.72-7.72 1.47 1.35L5.41 20z\"/>\n",
              "  </svg>\n",
              "      </button>\n",
              "      \n",
              "  <style>\n",
              "    .colab-df-container {\n",
              "      display:flex;\n",
              "      flex-wrap:wrap;\n",
              "      gap: 12px;\n",
              "    }\n",
              "\n",
              "    .colab-df-convert {\n",
              "      background-color: #E8F0FE;\n",
              "      border: none;\n",
              "      border-radius: 50%;\n",
              "      cursor: pointer;\n",
              "      display: none;\n",
              "      fill: #1967D2;\n",
              "      height: 32px;\n",
              "      padding: 0 0 0 0;\n",
              "      width: 32px;\n",
              "    }\n",
              "\n",
              "    .colab-df-convert:hover {\n",
              "      background-color: #E2EBFA;\n",
              "      box-shadow: 0px 1px 2px rgba(60, 64, 67, 0.3), 0px 1px 3px 1px rgba(60, 64, 67, 0.15);\n",
              "      fill: #174EA6;\n",
              "    }\n",
              "\n",
              "    [theme=dark] .colab-df-convert {\n",
              "      background-color: #3B4455;\n",
              "      fill: #D2E3FC;\n",
              "    }\n",
              "\n",
              "    [theme=dark] .colab-df-convert:hover {\n",
              "      background-color: #434B5C;\n",
              "      box-shadow: 0px 1px 3px 1px rgba(0, 0, 0, 0.15);\n",
              "      filter: drop-shadow(0px 1px 2px rgba(0, 0, 0, 0.3));\n",
              "      fill: #FFFFFF;\n",
              "    }\n",
              "  </style>\n",
              "\n",
              "      <script>\n",
              "        const buttonEl =\n",
              "          document.querySelector('#df-71ae6ae7-57d0-4c9c-9166-a83a86cd28c9 button.colab-df-convert');\n",
              "        buttonEl.style.display =\n",
              "          google.colab.kernel.accessAllowed ? 'block' : 'none';\n",
              "\n",
              "        async function convertToInteractive(key) {\n",
              "          const element = document.querySelector('#df-71ae6ae7-57d0-4c9c-9166-a83a86cd28c9');\n",
              "          const dataTable =\n",
              "            await google.colab.kernel.invokeFunction('convertToInteractive',\n",
              "                                                     [key], {});\n",
              "          if (!dataTable) return;\n",
              "\n",
              "          const docLinkHtml = 'Like what you see? Visit the ' +\n",
              "            '<a target=\"_blank\" href=https://colab.research.google.com/notebooks/data_table.ipynb>data table notebook</a>'\n",
              "            + ' to learn more about interactive tables.';\n",
              "          element.innerHTML = '';\n",
              "          dataTable['output_type'] = 'display_data';\n",
              "          await google.colab.output.renderOutput(dataTable, element);\n",
              "          const docLink = document.createElement('div');\n",
              "          docLink.innerHTML = docLinkHtml;\n",
              "          element.appendChild(docLink);\n",
              "        }\n",
              "      </script>\n",
              "    </div>\n",
              "  </div>\n",
              "  "
            ]
          },
          "metadata": {},
          "execution_count": 5
        }
      ]
    },
    {
      "cell_type": "code",
      "source": [
        "dataset2 = tf.data.Dataset.from_tensor_slices((df))\n",
        "dataset2"
      ],
      "metadata": {
        "colab": {
          "base_uri": "https://localhost:8080/"
        },
        "id": "lZ8EAT2JDuAD",
        "outputId": "00fb485f-eefb-43bf-cde6-af8fc8a09a51"
      },
      "execution_count": null,
      "outputs": [
        {
          "output_type": "execute_result",
          "data": {
            "text/plain": [
              "<TensorSliceDataset element_spec=TensorSpec(shape=(1,), dtype=tf.string, name=None)>"
            ]
          },
          "metadata": {},
          "execution_count": 6
        }
      ]
    },
    {
      "cell_type": "markdown",
      "metadata": {
        "id": "GqpuKh9HMNnf"
      },
      "source": [
        "## Process the dataset"
      ]
    },
    {
      "cell_type": "markdown",
      "metadata": {
        "id": "FK_FFy7P0-L3"
      },
      "source": [
        "### Flatten the dataset\n",
        "\n",
        "Converting the dataset from the set of articles into the set of characters. We also are interested only in `text` of each article so we may drop the `title` along the way."
      ]
    },
    {
      "cell_type": "code",
      "source": [
        "def article_to_text(text):\n",
        "    return np.array([char for char in text.numpy().decode('utf-8')])\n",
        "\n",
        "dataset_text = dataset2.map(\n",
        "    lambda article: tf.py_function(func=article_to_text, inp=[article[0]], Tout=tf.string)\n",
        ")\n",
        "\n",
        "for text in dataset_text.take(2):\n",
        "    print(text)\n",
        "    print('\\n')"
      ],
      "metadata": {
        "colab": {
          "base_uri": "https://localhost:8080/"
        },
        "id": "pCwROxdlP1sj",
        "outputId": "2baafeb9-289d-4359-9953-f410c61c8cf8"
      },
      "execution_count": null,
      "outputs": [
        {
          "output_type": "stream",
          "name": "stdout",
          "text": [
            "tf.Tensor(\n",
            "[b'A' b'e' b'u' b'g' b's' b't' b' ' b'a' b'm' b' ' b'A' b'l' b'b' b'i'\n",
            " b's' b' '], shape=(16,), dtype=string)\n",
            "\n",
            "\n",
            "tf.Tensor(\n",
            "[b'A' b'f' b'f' b'o' b'l' b't' b'e' b'r' b'n' b' ' b'a' b'm' b' ' b'A'\n",
            " b'l' b'b' b'i' b's' b' '], shape=(19,), dtype=string)\n",
            "\n",
            "\n"
          ]
        }
      ]
    },
    {
      "cell_type": "code",
      "execution_count": null,
      "metadata": {
        "colab": {
          "base_uri": "https://localhost:8080/"
        },
        "id": "oSsSbJbX0-L8",
        "outputId": "1ee5264c-bfc2-4e0f-9721-98d3bdd688c0"
      },
      "outputs": [
        {
          "output_type": "stream",
          "name": "stdout",
          "text": [
            "A\n",
            "e\n",
            "u\n",
            "g\n",
            "s\n",
            "t\n",
            " \n",
            "a\n",
            "m\n",
            " \n",
            "A\n",
            "l\n",
            "b\n",
            "i\n",
            "s\n",
            " \n",
            "A\n",
            "f\n",
            "f\n",
            "o\n",
            "l\n",
            "t\n",
            "e\n",
            "r\n",
            "n\n",
            " \n",
            "a\n",
            "m\n",
            " \n",
            "A\n",
            "l\n",
            "b\n",
            "i\n",
            "s\n",
            " \n",
            "B\n",
            "o\n",
            "n\n",
            "s\n",
            "t\n",
            "e\n",
            "t\n",
            "t\n",
            "e\n",
            "n\n",
            " \n",
            "H\n",
            "a\n",
            "u\n",
            "s\n"
          ]
        }
      ],
      "source": [
        "# Unbatch the text dataset into a more granular char dataset.\n",
        "# Now each dataset item is one character instead of a big piece of text.\n",
        "dataset_chars = dataset_text.unbatch()\n",
        "\n",
        "for char in dataset_chars.take(50):\n",
        "    print(char.numpy().decode('utf-8'))"
      ]
    },
    {
      "cell_type": "markdown",
      "metadata": {
        "id": "jHNkkXGz0-L_"
      },
      "source": [
        "### Generating vocabulary"
      ]
    },
    {
      "cell_type": "code",
      "execution_count": null,
      "metadata": {
        "colab": {
          "base_uri": "https://localhost:8080/"
        },
        "id": "B7rnYLeU0-MA",
        "outputId": "35c4fbb5-b944-44ff-ae66-20fc5622d820"
      },
      "outputs": [
        {
          "output_type": "stream",
          "name": "stdout",
          "text": [
            "Unique characters: 67\n",
            "vocab:\n",
            "[' ', \"'\", '(', ')', '-', '.', '/', 'A', 'B', 'C', 'D', 'E', 'F', 'G', 'H', 'I', 'J', 'K', 'L', 'M', 'N', 'O', 'P', 'Q', 'R', 'S', 'T', 'U', 'V', 'W', 'Y', 'Z', 'a', 'b', 'c', 'd', 'e', 'f', 'g', 'h', 'i', 'j', 'k', 'l', 'm', 'n', 'o', 'p', 'q', 'r', 's', 't', 'u', 'v', 'w', 'x', 'y', 'z', 'â', 'ä', 'è', 'é', 'ê', 'ë', 'ô', 'ö', 'ü']\n"
          ]
        }
      ],
      "source": [
        "vocab = set()\n",
        "\n",
        "# Ideally we should take all dataset items into account here.\n",
        "for text in dataset_chars:\n",
        "    vocab.update(text.numpy().decode('utf-8'))\n",
        "    \n",
        "vocab = sorted(vocab)\n",
        "\n",
        "print('Unique characters: {}'.format(len(vocab)))\n",
        "print('vocab:')\n",
        "print(vocab)"
      ]
    },
    {
      "cell_type": "code",
      "source": [
        "for text in dataset_chars.take(20):\n",
        "  print(text)"
      ],
      "metadata": {
        "colab": {
          "base_uri": "https://localhost:8080/"
        },
        "id": "jtZ0kiK9zLvd",
        "outputId": "a17a5a1d-cf4c-41f3-8fe4-6ed14059a549"
      },
      "execution_count": null,
      "outputs": [
        {
          "output_type": "stream",
          "name": "stdout",
          "text": [
            "tf.Tensor(b'A', shape=(), dtype=string)\n",
            "tf.Tensor(b'e', shape=(), dtype=string)\n",
            "tf.Tensor(b'u', shape=(), dtype=string)\n",
            "tf.Tensor(b'g', shape=(), dtype=string)\n",
            "tf.Tensor(b's', shape=(), dtype=string)\n",
            "tf.Tensor(b't', shape=(), dtype=string)\n",
            "tf.Tensor(b' ', shape=(), dtype=string)\n",
            "tf.Tensor(b'a', shape=(), dtype=string)\n",
            "tf.Tensor(b'm', shape=(), dtype=string)\n",
            "tf.Tensor(b' ', shape=(), dtype=string)\n",
            "tf.Tensor(b'A', shape=(), dtype=string)\n",
            "tf.Tensor(b'l', shape=(), dtype=string)\n",
            "tf.Tensor(b'b', shape=(), dtype=string)\n",
            "tf.Tensor(b'i', shape=(), dtype=string)\n",
            "tf.Tensor(b's', shape=(), dtype=string)\n",
            "tf.Tensor(b' ', shape=(), dtype=string)\n",
            "tf.Tensor(b'A', shape=(), dtype=string)\n",
            "tf.Tensor(b'f', shape=(), dtype=string)\n",
            "tf.Tensor(b'f', shape=(), dtype=string)\n",
            "tf.Tensor(b'o', shape=(), dtype=string)\n"
          ]
        }
      ]
    },
    {
      "cell_type": "markdown",
      "metadata": {
        "id": "6dj4e-AGMaV4"
      },
      "source": [
        "### Vectorize the text\n",
        "\n",
        "Before feeding the text to our RNN we need to convert the text from a sequence of characters to a sequence of numbers. To do so we will detect all unique characters in the text, form a vocabulary out of it and replace each character with its index in the vocabulary."
      ]
    },
    {
      "cell_type": "code",
      "execution_count": null,
      "metadata": {
        "colab": {
          "base_uri": "https://localhost:8080/"
        },
        "id": "xFFpuXfGMPq2",
        "outputId": "9d61f88f-c259-4570-8dbd-ff06adf8b56c"
      },
      "outputs": [
        {
          "output_type": "stream",
          "name": "stdout",
          "text": [
            "{\n",
            "  ' ' :   0,\n",
            "  \"'\" :   1,\n",
            "  '(' :   2,\n",
            "  ')' :   3,\n",
            "  '-' :   4,\n",
            "  '.' :   5,\n",
            "  '/' :   6,\n",
            "  'A' :   7,\n",
            "  'B' :   8,\n",
            "  'C' :   9,\n",
            "  'D' :  10,\n",
            "  'E' :  11,\n",
            "  'F' :  12,\n",
            "  'G' :  13,\n",
            "  'H' :  14,\n",
            "  'I' :  15,\n",
            "  'J' :  16,\n",
            "  'K' :  17,\n",
            "  'L' :  18,\n",
            "  'M' :  19,\n",
            "  'N' :  20,\n",
            "  'O' :  21,\n",
            "  'P' :  22,\n",
            "  'Q' :  23,\n",
            "  'R' :  24,\n",
            "  'S' :  25,\n",
            "  'T' :  26,\n",
            "  'U' :  27,\n",
            "  'V' :  28,\n",
            "  'W' :  29,\n",
            "  ...\n",
            "}\n"
          ]
        }
      ],
      "source": [
        "# Map characters to their indices in vocabulary.\n",
        "char2index = {char: index for index, char in enumerate(vocab)}\n",
        "\n",
        "print('{')\n",
        "for char, _ in zip(char2index, range(30)):\n",
        "    print('  {:4s}: {:3d},'.format(repr(char), char2index[char]))\n",
        "print('  ...\\n}')"
      ]
    },
    {
      "cell_type": "code",
      "execution_count": null,
      "metadata": {
        "colab": {
          "base_uri": "https://localhost:8080/"
        },
        "id": "lQB33zI7NkRo",
        "outputId": "6af3ff7b-0f4a-4167-e268-ef915b0f3b0c"
      },
      "outputs": [
        {
          "output_type": "stream",
          "name": "stdout",
          "text": [
            "[' ' \"'\" '(' ')' '-' '.' '/' 'A' 'B' 'C' 'D' 'E' 'F' 'G' 'H' 'I' 'J' 'K'\n",
            " 'L' 'M' 'N' 'O' 'P' 'Q' 'R' 'S' 'T' 'U' 'V' 'W' 'Y' 'Z' 'a' 'b' 'c' 'd'\n",
            " 'e' 'f' 'g' 'h' 'i' 'j' 'k' 'l' 'm' 'n' 'o' 'p' 'q' 'r' 's' 't' 'u' 'v'\n",
            " 'w' 'x' 'y' 'z' 'â' 'ä' 'è' 'é' 'ê' 'ë' 'ô' 'ö' 'ü']\n"
          ]
        }
      ],
      "source": [
        "# Map character indices to characters from vacabulary.\n",
        "index2char = np.array(vocab)\n",
        "\n",
        "print(index2char)"
      ]
    },
    {
      "cell_type": "code",
      "execution_count": null,
      "metadata": {
        "colab": {
          "base_uri": "https://localhost:8080/"
        },
        "id": "DXUAlYmvN_Rj",
        "outputId": "fa04ee93-16bd-4ec1-e16e-6e943c8b4424"
      },
      "outputs": [
        {
          "output_type": "stream",
          "name": "stdout",
          "text": [
            "ORIGINAL CHARS: \n",
            "---\n",
            "A\n",
            "e\n",
            "u\n",
            "g\n",
            "s\n",
            "t\n",
            " \n",
            "a\n",
            "m\n",
            " \n",
            "A\n",
            "l\n",
            "b\n",
            "i\n",
            "s\n",
            " \n",
            "A\n",
            "f\n",
            "f\n",
            "o\n",
            "l\n",
            "t\n",
            "e\n",
            "r\n",
            "n\n",
            " \n",
            "a\n",
            "m\n",
            " \n",
            "A\n",
            "l\n",
            "b\n",
            "i\n",
            "s\n",
            " \n",
            "B\n",
            "o\n",
            "n\n",
            "s\n",
            "t\n",
            "e\n",
            "t\n",
            "t\n",
            "e\n",
            "n\n",
            " \n",
            "H\n",
            "a\n",
            "u\n",
            "s\n",
            "\n",
            "\n",
            "\n",
            "INDEXED CHARS: \n",
            "---\n",
            "7\n",
            "36\n",
            "52\n",
            "38\n",
            "50\n",
            "51\n",
            "0\n",
            "32\n",
            "44\n",
            "0\n",
            "7\n",
            "43\n",
            "33\n",
            "40\n",
            "50\n",
            "0\n",
            "7\n",
            "37\n",
            "37\n",
            "46\n"
          ]
        }
      ],
      "source": [
        "def char_to_index(char):\n",
        "    char_symbol = char.numpy().decode('utf-8')\n",
        "    char_index = char2index[char_symbol] if char_symbol in char2index else char2index['?']\n",
        "    return char_index\n",
        "\n",
        "dataset_chars_indexed = dataset_chars.map(\n",
        "    lambda char: tf.py_function(func=char_to_index, inp=[char], Tout=tf.int32)\n",
        ")\n",
        "\n",
        "print('ORIGINAL CHARS:', '\\n---')\n",
        "for char in dataset_chars.take(50):\n",
        "    print(char.numpy().decode())\n",
        "\n",
        "print('\\n\\n')    \n",
        "    \n",
        "print('INDEXED CHARS:', '\\n---')\n",
        "for char_index in dataset_chars_indexed.take(20):\n",
        "    print(char_index.numpy())"
      ]
    },
    {
      "cell_type": "code",
      "source": [
        "dataset_chars"
      ],
      "metadata": {
        "colab": {
          "base_uri": "https://localhost:8080/"
        },
        "id": "NDPb8Gy-8IXe",
        "outputId": "8b343285-9560-4f13-9ce4-3359a99044ef"
      },
      "execution_count": null,
      "outputs": [
        {
          "output_type": "execute_result",
          "data": {
            "text/plain": [
              "<_UnbatchDataset element_spec=TensorSpec(shape=<unknown>, dtype=tf.string, name=None)>"
            ]
          },
          "metadata": {},
          "execution_count": 14
        }
      ]
    },
    {
      "cell_type": "code",
      "source": [
        "def char_to_index(char):\n",
        "    char_symbol = char.numpy().decode('utf-8')\n",
        "    char_index = char2index[char_symbol] if char_symbol in char2index else char2index['']\n",
        "    return char_index\n",
        "\n",
        "dataset_chars_indexed = dataset_chars.map(\n",
        "    lambda char: tf.py_function(func=char_to_index, inp=[char], Tout=tf.int32)\n",
        ")\n",
        "\n",
        "for char in dataset_chars.take(20):\n",
        "    print(char.numpy().decode('utf-8'))"
      ],
      "metadata": {
        "colab": {
          "base_uri": "https://localhost:8080/"
        },
        "id": "tRXOCWdQ7sbL",
        "outputId": "4b70304a-ed01-4a0b-8696-39fefa83568b"
      },
      "execution_count": null,
      "outputs": [
        {
          "output_type": "stream",
          "name": "stdout",
          "text": [
            "A\n",
            "e\n",
            "u\n",
            "g\n",
            "s\n",
            "t\n",
            " \n",
            "a\n",
            "m\n",
            " \n",
            "A\n",
            "l\n",
            "b\n",
            "i\n",
            "s\n",
            " \n",
            "A\n",
            "f\n",
            "f\n",
            "o\n"
          ]
        }
      ]
    },
    {
      "cell_type": "markdown",
      "metadata": {
        "id": "CHv5HhUuTQYS"
      },
      "source": [
        "## Create training sequences"
      ]
    },
    {
      "cell_type": "code",
      "execution_count": null,
      "metadata": {
        "id": "rpdFJJc90-ML"
      },
      "outputs": [],
      "source": [
        "# The maximum length sentence we want for a single input in characters.\n",
        "sequence_length = 50"
      ]
    },
    {
      "cell_type": "code",
      "execution_count": null,
      "metadata": {
        "colab": {
          "base_uri": "https://localhost:8080/"
        },
        "id": "Ap71VjB2Vuct",
        "outputId": "80948dd1-e0ac-4fdc-d5a2-2ffa3f27a9b0"
      },
      "outputs": [
        {
          "output_type": "stream",
          "name": "stdout",
          "text": [
            "'Aeugst am Albis Affoltern am Albis Bonstetten Hause'\n",
            "\n",
            "'n am Albis Hedingen Kappel am Albis Knonau Maschwan'\n",
            "\n",
            "'den Mettmenstetten Obfelden Ottenbach Rifferswil St'\n",
            "\n",
            "'allikon Wettswil am Albis Adlikon Benken (ZH) Berg '\n",
            "\n",
            "'am Irchel Buch am Irchel Dachsen Dorf Feuerthalen F'\n",
            "\n",
            "'laach Flurlingen Andelfingen Henggart Humlikon Klei'\n",
            "\n",
            "'nandelfingen Laufen-Uhwiesen Marthalen Ossingen Rhe'\n",
            "\n",
            "'inau Thalheim an der Thur Trüllikon Truttikon Volke'\n",
            "\n",
            "'n Bachenbülach Bassersdorf Bülach Dietlikon Eglisau'\n",
            "\n",
            "' Embrach Freienstein-Teufen Glattfelden Hochfelden '\n",
            "\n"
          ]
        }
      ],
      "source": [
        "# Generate batched sequences out of the char_dataset.\n",
        "sequences = dataset_chars_indexed.batch(sequence_length + 1, drop_remainder=True)\n",
        "\n",
        "# Sequences examples.\n",
        "for item in sequences.take(10):\n",
        "    print(repr(''.join(index2char[item.numpy()])))\n",
        "    print()"
      ]
    },
    {
      "cell_type": "code",
      "execution_count": null,
      "metadata": {
        "id": "Y8spPCfe-iTn"
      },
      "outputs": [],
      "source": [
        "# sequences shape:\n",
        "# - Each sequence of length 101\n",
        "#\n",
        "#    201     201          201\n",
        "# [(.....) (.....) ...  (.....)]"
      ]
    },
    {
      "cell_type": "markdown",
      "metadata": {
        "id": "HdcrcUs4Xxso"
      },
      "source": [
        "For each sequence, duplicate and shift it to form the input and target text. For example, say `sequence_length` is `4` and our text is `Hello`. The input sequence would be `Hell`, and the target sequence `ello`."
      ]
    },
    {
      "cell_type": "code",
      "execution_count": null,
      "metadata": {
        "id": "9fxvXsP0XFDh"
      },
      "outputs": [],
      "source": [
        "def split_input_target(chunk):\n",
        "    input_text = chunk[:-1]\n",
        "    target_text = chunk[1:]\n",
        "    return input_text, target_text"
      ]
    },
    {
      "cell_type": "code",
      "execution_count": null,
      "metadata": {
        "id": "454rWIQYXXRY"
      },
      "outputs": [],
      "source": [
        "dataset_sequences = sequences.map(split_input_target)"
      ]
    },
    {
      "cell_type": "code",
      "execution_count": null,
      "metadata": {
        "colab": {
          "base_uri": "https://localhost:8080/"
        },
        "id": "Kuoh4tCdYCck",
        "outputId": "4d0cebb7-44f7-4f80-a3f1-117ea411e604"
      },
      "outputs": [
        {
          "output_type": "stream",
          "name": "stdout",
          "text": [
            "Input sequence size: 50\n",
            "Target sequence size: 50\n",
            "\n",
            "Input:\n",
            " 'Aeugst am Albis Affoltern am Albis Bonstetten Haus'\n",
            "\n",
            "Target:\n",
            " 'eugst am Albis Affoltern am Albis Bonstetten Hause'\n"
          ]
        }
      ],
      "source": [
        "for input_example, target_example in dataset_sequences.take(1):\n",
        "    print('Input sequence size:', repr(len(input_example.numpy())))\n",
        "    print('Target sequence size:', repr(len(target_example.numpy())))\n",
        "    print()\n",
        "    print('Input:\\n', repr(''.join(index2char[input_example.numpy()])))\n",
        "    print()\n",
        "    print('Target:\\n', repr(''.join(index2char[target_example.numpy()])))"
      ]
    },
    {
      "cell_type": "code",
      "execution_count": null,
      "metadata": {
        "id": "cp0tl0sN807l"
      },
      "outputs": [],
      "source": [
        "# dataset shape:\n",
        "# - Each sequence is a tuple of 2 sub-sequences of length 100 (input_text and target_text)\n",
        "#\n",
        "#    200       200           200\n",
        "# /(.....)\\ /(.....)\\ ... /(.....)\\  <-- input_text\n",
        "# \\(.....)/ \\(.....)/     \\(.....)/  <-- target_text"
      ]
    },
    {
      "cell_type": "markdown",
      "metadata": {
        "id": "BDYHEJ0pY1ai"
      },
      "source": [
        "Each index of these vectors are processed as one time step. For the input at time step 0, the model receives the index for \"F\" and trys to predict the index for \"i\" as the next character. At the next timestep, it does the same thing but the RNN considers the previous step context in addition to the current input character."
      ]
    },
    {
      "cell_type": "code",
      "execution_count": null,
      "metadata": {
        "colab": {
          "base_uri": "https://localhost:8080/"
        },
        "id": "C-0zpv53Y2o4",
        "outputId": "994458df-d0fe-4b4a-8d0b-3c2347f903b1"
      },
      "outputs": [
        {
          "output_type": "stream",
          "name": "stdout",
          "text": [
            "Step #0\n",
            "  input: 7 ('A')\n",
            "  expected output: 36 ('e')\n",
            "\n",
            "Step #1\n",
            "  input: 36 ('e')\n",
            "  expected output: 52 ('u')\n",
            "\n",
            "Step #2\n",
            "  input: 52 ('u')\n",
            "  expected output: 38 ('g')\n",
            "\n",
            "Step #3\n",
            "  input: 38 ('g')\n",
            "  expected output: 50 ('s')\n",
            "\n",
            "Step #4\n",
            "  input: 50 ('s')\n",
            "  expected output: 51 ('t')\n",
            "\n"
          ]
        }
      ],
      "source": [
        "for i, (input_idx, target_idx) in enumerate(zip(input_example[:5], target_example[:5])):\n",
        "    print('Step #{:1d}'.format(i))\n",
        "    print('  input: {} ({:s})'.format(input_idx, repr(index2char[input_idx])))\n",
        "    print('  expected output: {} ({:s})'.format(target_idx, repr(index2char[target_idx])))\n",
        "    print()"
      ]
    },
    {
      "cell_type": "markdown",
      "metadata": {
        "id": "1iDlp40lC5YB"
      },
      "source": [
        "## Split training sequences into batches\n",
        "\n",
        "We used `tf.data` to split the text into manageable sequences. But before feeding this data into the model, we need to shuffle the data and pack it into batches."
      ]
    },
    {
      "cell_type": "code",
      "execution_count": null,
      "metadata": {
        "colab": {
          "base_uri": "https://localhost:8080/"
        },
        "id": "eDq-wa5EC3wW",
        "outputId": "cf5eae49-faa9-4fc5-d2a3-b87c95b87939"
      },
      "outputs": [
        {
          "output_type": "execute_result",
          "data": {
            "text/plain": [
              "<PrefetchDataset element_spec=(TensorSpec(shape=<unknown>, dtype=tf.int32, name=None), TensorSpec(shape=<unknown>, dtype=tf.int32, name=None))>"
            ]
          },
          "metadata": {},
          "execution_count": 24
        }
      ],
      "source": [
        "# Batch size.\n",
        "BATCH_SIZE = 64\n",
        "\n",
        "# Buffer size to shuffle the dataset (TF data is designed to work\n",
        "# with possibly infinite sequences, so it doesn't attempt to shuffle\n",
        "# the entire sequence in memory. Instead, it maintains a buffer in\n",
        "# which it shuffles elements).\n",
        "BUFFER_SIZE = 100\n",
        "\n",
        "# How many items to prefetch before the next iteration.\n",
        "PREFETCH_SIZE = 10\n",
        "\n",
        "dataset_sequence_batches = dataset_sequences \\\n",
        "    .shuffle(BUFFER_SIZE) \\\n",
        "    .batch(BATCH_SIZE, drop_remainder=True) \\\n",
        "    .prefetch(PREFETCH_SIZE)\n",
        "\n",
        "dataset_sequence_batches"
      ]
    },
    {
      "cell_type": "code",
      "execution_count": null,
      "metadata": {
        "colab": {
          "base_uri": "https://localhost:8080/"
        },
        "id": "b_kYgvQGBO0U",
        "outputId": "0f16c7a6-2640-49a9-b89e-d5b126239619"
      },
      "outputs": [
        {
          "output_type": "stream",
          "name": "stdout",
          "text": [
            "1st batch: input_text: tf.Tensor(\n",
            "[[49 50 54 ... 40 45 38]\n",
            " [45 40 38 ... 32 43 35]\n",
            " [45  4  8 ... 46 45  0]\n",
            " ...\n",
            " [32 44  0 ... 39 49 32]\n",
            " [ 0  9 39 ... 34 39  0]\n",
            " [51 54 40 ... 36 45 33]], shape=(64, 50), dtype=int32)\n",
            "\n",
            "1st batch: target_text: tf.Tensor(\n",
            "[[50 54 40 ... 45 38 36]\n",
            " [40 38 36 ... 43 35  0]\n",
            " [ 4  8 49 ... 45  0 10]\n",
            " ...\n",
            " [44  0 25 ... 49 32 43]\n",
            " [ 9 39 32 ... 39  0 25]\n",
            " [54 40 43 ... 45 33 32]], shape=(64, 50), dtype=int32)\n"
          ]
        }
      ],
      "source": [
        "for input_text, target_text in dataset_sequence_batches.take(1):\n",
        "    print('1st batch: input_text:', input_text)\n",
        "    print()\n",
        "    print('1st batch: target_text:', target_text)"
      ]
    },
    {
      "cell_type": "code",
      "execution_count": null,
      "metadata": {
        "id": "UkDCH15v_2I6"
      },
      "outputs": [],
      "source": [
        "# dataset shape:\n",
        "# - 64 sequences per batch\n",
        "# - Each sequence is a tuple of 2 sub-sequences of length 100 (input_text and target_text)\n",
        "#\n",
        "#\n",
        "#     200       200           200             200       200           200\n",
        "# |/(.....)\\ /(.....)\\ ... /(.....)\\| ... |/(.....)\\ /(.....)\\ ... /(.....)\\|  <-- input_text\n",
        "# |\\(.....)/ \\(.....)/     \\(.....)/| ... |\\(.....)/ \\(.....)/     \\(.....)/|  <-- target_text\n",
        "#\n",
        "# <------------- 64 ---------------->     <------------- 64 ---------------->"
      ]
    },
    {
      "cell_type": "markdown",
      "metadata": {
        "id": "ghB-VwLlD-Oz"
      },
      "source": [
        "## Build the model\n",
        "\n",
        "Use [tf.keras.Sequential](https://www.tensorflow.org/api_docs/python/tf/keras/Sequential) to define the model. For this simple example three layers are used to define our model:\n",
        "\n",
        "- [tf.keras.layers.Embedding](https://www.tensorflow.org/api_docs/python/tf/keras/layers/Embedding): The input layer. A trainable lookup table that will map the numbers of each character to a vector with `embedding_dim` dimensions;\n",
        "- [tf.keras.layers.LSTM](https://www.tensorflow.org/api_docs/python/tf/keras/layers/LSTM): A type of RNN with size units=rnn_units (You can also use a GRU layer here.)\n",
        "- [tf.keras.layers.Dense](https://www.tensorflow.org/api_docs/python/tf/keras/layers/Dense): The output layer, with vocab_size outputs."
      ]
    },
    {
      "cell_type": "code",
      "execution_count": null,
      "metadata": {
        "colab": {
          "base_uri": "https://localhost:8080/"
        },
        "id": "0cg8DlO3QjuT",
        "outputId": "3471d301-b5ce-440e-bd61-07d7ba8e0c2d"
      },
      "outputs": [
        {
          "output_type": "stream",
          "name": "stdout",
          "text": [
            "tmp_input_array shape: (2, 8)\n",
            "tmp_input_array:\n",
            "[[5 8 4 5 0 7 5 9]\n",
            " [8 1 3 1 1 1 4 0]]\n",
            "\n",
            "tmp_output_array shape: (2, 8, 5)\n",
            "tmp_output_array:\n",
            "[[[ 0.02342174 -0.03617526 -0.01403851 -0.00586437  0.04123484]\n",
            "  [-0.00112741 -0.02380614 -0.00467237 -0.02619611  0.04623104]\n",
            "  [-0.00989401 -0.01192075  0.0336915   0.00625502  0.04550796]\n",
            "  [ 0.02342174 -0.03617526 -0.01403851 -0.00586437  0.04123484]\n",
            "  [ 0.00897555 -0.0073238  -0.01556813 -0.03762007  0.01182825]\n",
            "  [-0.02189745 -0.03657757  0.01811261 -0.02399114 -0.04618346]\n",
            "  [ 0.02342174 -0.03617526 -0.01403851 -0.00586437  0.04123484]\n",
            "  [ 0.00957866 -0.0414855  -0.02294355  0.03912084  0.00523938]]\n",
            "\n",
            " [[-0.00112741 -0.02380614 -0.00467237 -0.02619611  0.04623104]\n",
            "  [-0.03368393 -0.04151    -0.0248234   0.00326741  0.039419  ]\n",
            "  [-0.02165328  0.01211119  0.03785961  0.01211242  0.0292351 ]\n",
            "  [-0.03368393 -0.04151    -0.0248234   0.00326741  0.039419  ]\n",
            "  [-0.03368393 -0.04151    -0.0248234   0.00326741  0.039419  ]\n",
            "  [-0.03368393 -0.04151    -0.0248234   0.00326741  0.039419  ]\n",
            "  [-0.00989401 -0.01192075  0.0336915   0.00625502  0.04550796]\n",
            "  [ 0.00897555 -0.0073238  -0.01556813 -0.03762007  0.01182825]]]\n"
          ]
        }
      ],
      "source": [
        "# Let's do a quick detour and see how Embeding layer works.\n",
        "# It takes several char indices sequences (batch) as an input.\n",
        "# It encodes every character of every sequence to a vector of tmp_embeding_size length.\n",
        "tmp_vocab_size = 10\n",
        "tmp_embeding_size = 5\n",
        "tmp_input_length = 8\n",
        "tmp_batch_size = 2\n",
        "\n",
        "tmp_model = tf.keras.models.Sequential()\n",
        "tmp_model.add(tf.keras.layers.Embedding(\n",
        "  input_dim=tmp_vocab_size,\n",
        "  output_dim=tmp_embeding_size,\n",
        "  input_length=tmp_input_length\n",
        "))\n",
        "# The model will take as input an integer matrix of size (batch, input_length).\n",
        "# The largest integer (i.e. word index) in the input should be no larger than 9 (tmp_vocab_size).\n",
        "# Now model.output_shape == (None, 10, 64), where None is the batch dimension.\n",
        "tmp_input_array = np.random.randint(\n",
        "  low=0,\n",
        "  high=tmp_vocab_size,\n",
        "  size=(tmp_batch_size, tmp_input_length)\n",
        ")\n",
        "tmp_model.compile('rmsprop', 'mse')\n",
        "tmp_output_array = tmp_model.predict(tmp_input_array)\n",
        "\n",
        "print('tmp_input_array shape:', tmp_input_array.shape)\n",
        "print('tmp_input_array:')\n",
        "print(tmp_input_array)\n",
        "print()\n",
        "print('tmp_output_array shape:', tmp_output_array.shape)\n",
        "print('tmp_output_array:')\n",
        "print(tmp_output_array)"
      ]
    },
    {
      "cell_type": "code",
      "execution_count": null,
      "metadata": {
        "id": "I7ZuvZHBD_pS"
      },
      "outputs": [],
      "source": [
        "# Length of the vocabulary in chars.\n",
        "vocab_size = len(vocab)\n",
        "\n",
        "# The embedding dimension.\n",
        "embedding_dim = 256\n",
        "\n",
        "# Number of RNN units.\n",
        "rnn_units = 1024"
      ]
    },
    {
      "cell_type": "code",
      "execution_count": null,
      "metadata": {
        "id": "-sojdDCAICWO"
      },
      "outputs": [],
      "source": [
        "def build_model(vocab_size, embedding_dim, rnn_units, batch_size):\n",
        "    model = tf.keras.models.Sequential()\n",
        "\n",
        "    model.add(tf.keras.layers.Embedding(\n",
        "      input_dim=vocab_size,\n",
        "      output_dim=embedding_dim,\n",
        "      batch_input_shape=[batch_size, None]\n",
        "    ))\n",
        "\n",
        "    model.add(tf.keras.layers.LSTM(\n",
        "      units=rnn_units,\n",
        "      return_sequences=True,\n",
        "      stateful=True,\n",
        "      recurrent_initializer=tf.keras.initializers.GlorotNormal()\n",
        "    ))\n",
        "\n",
        "    model.add(Dropout(0.2))\n",
        "\n",
        "    model.add(tf.keras.layers.LSTM(\n",
        "      units=rnn_units,\n",
        "      return_sequences=True,\n",
        "      stateful=True,\n",
        "      recurrent_initializer=tf.keras.initializers.GlorotNormal()\n",
        "    ))\n",
        "\n",
        "    model.add(tf.keras.layers.Dense(vocab_size))\n",
        "  \n",
        "    return model"
      ]
    },
    {
      "cell_type": "code",
      "execution_count": null,
      "metadata": {
        "id": "XoPwxyAPEg6z"
      },
      "outputs": [],
      "source": [
        "model = build_model(vocab_size, embedding_dim, rnn_units, BATCH_SIZE)"
      ]
    },
    {
      "cell_type": "code",
      "execution_count": null,
      "metadata": {
        "colab": {
          "base_uri": "https://localhost:8080/"
        },
        "id": "iLnlZFgU55bQ",
        "outputId": "4f8c5d8a-5fca-4995-e5ad-2d5996f89515"
      },
      "outputs": [
        {
          "output_type": "stream",
          "name": "stdout",
          "text": [
            "Model: \"sequential_1\"\n",
            "_________________________________________________________________\n",
            " Layer (type)                Output Shape              Param #   \n",
            "=================================================================\n",
            " embedding_1 (Embedding)     (64, None, 256)           17152     \n",
            "                                                                 \n",
            " lstm (LSTM)                 (64, None, 1024)          5246976   \n",
            "                                                                 \n",
            " dropout (Dropout)           (64, None, 1024)          0         \n",
            "                                                                 \n",
            " lstm_1 (LSTM)               (64, None, 1024)          8392704   \n",
            "                                                                 \n",
            " dense (Dense)               (64, None, 67)            68675     \n",
            "                                                                 \n",
            "=================================================================\n",
            "Total params: 13,725,507\n",
            "Trainable params: 13,725,507\n",
            "Non-trainable params: 0\n",
            "_________________________________________________________________\n"
          ]
        }
      ],
      "source": [
        "model.summary()"
      ]
    },
    {
      "cell_type": "code",
      "execution_count": null,
      "metadata": {
        "colab": {
          "base_uri": "https://localhost:8080/",
          "height": 644
        },
        "id": "CcaO_rO_8-GH",
        "outputId": "388a49fc-35fa-4e6d-9366-f03608ad07d1"
      },
      "outputs": [
        {
          "output_type": "execute_result",
          "data": {
            "text/plain": [
              "<IPython.core.display.Image object>"
            ],
            "image/png": "[encoded data removed]"
          },
          "metadata": {},
          "execution_count": 32
        }
      ],
      "source": [
        "tf.keras.utils.plot_model(\n",
        "    model,\n",
        "    show_shapes=True,\n",
        "    show_layer_names=True,\n",
        ")"
      ]
    },
    {
      "cell_type": "markdown",
      "metadata": {
        "id": "LqcBufKEE_p6"
      },
      "source": [
        "## Train the model\n",
        "\n",
        "At this point the problem can be treated as a standard classification problem. Given the previous RNN state, and the input this time step, predict the class of the next character."
      ]
    },
    {
      "cell_type": "markdown",
      "metadata": {
        "id": "l4s0-PvrFub5"
      },
      "source": [
        "### Attach an optimizer, and a loss function"
      ]
    },
    {
      "cell_type": "code",
      "execution_count": null,
      "metadata": {
        "id": "UOEUUm6JE95a"
      },
      "outputs": [],
      "source": [
        "# An objective function.\n",
        "# The function is any callable with the signature scalar_loss = fn(y_true, y_pred).\n",
        "def loss(labels, logits):\n",
        "    return tf.keras.losses.sparse_categorical_crossentropy(\n",
        "      y_true=labels,\n",
        "      y_pred=logits,\n",
        "      from_logits=True\n",
        "    )\n",
        "\n",
        "#example_batch_loss = loss(target_example_batch, example_batch_predictions)\n",
        "\n",
        "#print(\"Prediction shape: \", example_batch_predictions.shape, \" # (batch_size, sequence_length, vocab_size)\")\n",
        "#print(\"scalar_loss:      \", example_batch_loss.numpy().mean())"
      ]
    },
    {
      "cell_type": "code",
      "execution_count": null,
      "metadata": {
        "id": "SXhJsB6eFgrJ"
      },
      "outputs": [],
      "source": [
        "adam_optimizer = tf.keras.optimizers.Adam(learning_rate=0.001)\n",
        "model.compile(\n",
        "    optimizer=adam_optimizer,\n",
        "    loss=loss\n",
        ")"
      ]
    },
    {
      "cell_type": "markdown",
      "metadata": {
        "id": "MK3Cf-xZFwL4"
      },
      "source": [
        "### Configure checkpoints"
      ]
    },
    {
      "cell_type": "code",
      "execution_count": null,
      "metadata": {
        "id": "7Jet-3Ps0-Ny"
      },
      "outputs": [],
      "source": [
        "# %rm -rf tmp/checkpoints"
      ]
    },
    {
      "cell_type": "code",
      "execution_count": null,
      "metadata": {
        "id": "LUhXnHPJFy5q"
      },
      "outputs": [],
      "source": [
        "# Directory where the checkpoints will be saved.\n",
        "checkpoint_dir = 'drive/MyDrive/RNN-town'\n",
        "os.makedirs(checkpoint_dir, exist_ok=True)\n",
        "\n",
        "# Name of the checkpoint files\n",
        "checkpoint_prefix = os.path.join(checkpoint_dir, 'ckpt_{epoch}')\n",
        "\n",
        "checkpoint_callback=tf.keras.callbacks.ModelCheckpoint(\n",
        "    filepath=checkpoint_prefix,\n",
        "    save_weights_only=True\n",
        ")"
      ]
    },
    {
      "cell_type": "markdown",
      "metadata": {
        "id": "oFg9MFJoGZWf"
      },
      "source": [
        "### Execute the training"
      ]
    },
    {
      "cell_type": "code",
      "execution_count": null,
      "metadata": {
        "id": "AVk-pARPGaja"
      },
      "outputs": [],
      "source": [
        "EPOCHS=100\n",
        "STEPS_PER_EPOCH = 10"
      ]
    },
    {
      "cell_type": "code",
      "execution_count": null,
      "metadata": {
        "colab": {
          "base_uri": "https://localhost:8080/"
        },
        "id": "y0rveBdAGeEz",
        "outputId": "d2b0dffb-02ca-43ad-e3b1-dfb286627327"
      },
      "outputs": [
        {
          "output_type": "stream",
          "name": "stdout",
          "text": [
            "Epoch 1/100\n",
            "10/10 [==============================] - 19s 732ms/step - loss: 3.6519\n",
            "Epoch 2/100\n",
            "10/10 [==============================] - 13s 1s/step - loss: 3.3922\n",
            "Epoch 3/100\n",
            "10/10 [==============================] - 10s 1s/step - loss: 3.3560\n",
            "Epoch 4/100\n",
            "10/10 [==============================] - 14s 1s/step - loss: 3.2552\n",
            "Epoch 5/100\n",
            "10/10 [==============================] - 13s 1s/step - loss: 3.1453\n",
            "Epoch 6/100\n",
            "10/10 [==============================] - 10s 1s/step - loss: 2.8824\n",
            "Epoch 7/100\n",
            "10/10 [==============================] - 15s 1s/step - loss: 2.6988\n",
            "Epoch 8/100\n",
            "10/10 [==============================] - 13s 1s/step - loss: 2.6090\n",
            "Epoch 9/100\n",
            "10/10 [==============================] - 10s 1s/step - loss: 2.5261\n",
            "Epoch 10/100\n",
            "10/10 [==============================] - 14s 1s/step - loss: 2.4359\n",
            "Epoch 11/100\n",
            "10/10 [==============================] - 13s 1s/step - loss: 2.4073\n",
            "Epoch 12/100\n",
            "10/10 [==============================] - 11s 1s/step - loss: 2.3428\n",
            "Epoch 13/100\n",
            "10/10 [==============================] - 14s 1s/step - loss: 2.2387\n",
            "Epoch 14/100\n",
            "10/10 [==============================] - 12s 1s/step - loss: 2.2280\n",
            "Epoch 15/100\n",
            "10/10 [==============================] - 11s 1s/step - loss: 2.1618\n",
            "Epoch 16/100\n",
            "10/10 [==============================] - 14s 1s/step - loss: 2.0830\n",
            "Epoch 17/100\n",
            "10/10 [==============================] - 12s 1s/step - loss: 2.0556\n",
            "Epoch 18/100\n",
            "10/10 [==============================] - 11s 1s/step - loss: 2.0016\n",
            "Epoch 19/100\n",
            "10/10 [==============================] - 14s 1s/step - loss: 1.8954\n",
            "Epoch 20/100\n",
            "10/10 [==============================] - 12s 1s/step - loss: 1.8734\n",
            "Epoch 21/100\n",
            "10/10 [==============================] - 11s 1s/step - loss: 1.7891\n",
            "Epoch 22/100\n",
            "10/10 [==============================] - 13s 1s/step - loss: 1.6584\n",
            "Epoch 23/100\n",
            "10/10 [==============================] - 13s 1s/step - loss: 1.6045\n",
            "Epoch 24/100\n",
            "10/10 [==============================] - 11s 1s/step - loss: 1.5220\n",
            "Epoch 25/100\n",
            "10/10 [==============================] - 13s 1s/step - loss: 1.3579\n",
            "Epoch 26/100\n",
            "10/10 [==============================] - 12s 1s/step - loss: 1.3197\n",
            "Epoch 27/100\n",
            "10/10 [==============================] - 11s 1s/step - loss: 1.2138\n",
            "Epoch 28/100\n",
            "10/10 [==============================] - 13s 1s/step - loss: 1.0594\n",
            "Epoch 29/100\n",
            "10/10 [==============================] - 12s 1s/step - loss: 1.0099\n",
            "Epoch 30/100\n",
            "10/10 [==============================] - 11s 1s/step - loss: 0.9245\n",
            "Epoch 31/100\n",
            "10/10 [==============================] - 13s 1s/step - loss: 0.7742\n",
            "Epoch 32/100\n",
            "10/10 [==============================] - 13s 1s/step - loss: 0.7397\n",
            "Epoch 33/100\n",
            "10/10 [==============================] - 11s 1s/step - loss: 0.6772\n",
            "Epoch 34/100\n",
            "10/10 [==============================] - 14s 1s/step - loss: 0.5768\n",
            "Epoch 35/100\n",
            "10/10 [==============================] - 13s 1s/step - loss: 0.5714\n",
            "Epoch 36/100\n",
            "10/10 [==============================] - 10s 1s/step - loss: 0.5333\n",
            "Epoch 37/100\n",
            "10/10 [==============================] - 14s 1s/step - loss: 0.4756\n",
            "Epoch 38/100\n",
            "10/10 [==============================] - 12s 1s/step - loss: 0.4843\n",
            "Epoch 39/100\n",
            "10/10 [==============================] - 11s 1s/step - loss: 0.4547\n",
            "Epoch 40/100\n",
            "10/10 [==============================] - 14s 1s/step - loss: 0.3993\n",
            "Epoch 41/100\n",
            "10/10 [==============================] - 12s 1s/step - loss: 0.3973\n",
            "Epoch 42/100\n",
            "10/10 [==============================] - 11s 1s/step - loss: 0.3883\n",
            "Epoch 43/100\n",
            "10/10 [==============================] - 14s 1s/step - loss: 0.3428\n",
            "Epoch 44/100\n",
            "10/10 [==============================] - 12s 1s/step - loss: 0.3503\n",
            "Epoch 45/100\n",
            "10/10 [==============================] - 11s 1s/step - loss: 0.3371\n",
            "Epoch 46/100\n",
            "10/10 [==============================] - 14s 1s/step - loss: 0.3097\n",
            "Epoch 47/100\n",
            "10/10 [==============================] - 12s 1s/step - loss: 0.3135\n",
            "Epoch 48/100\n",
            "10/10 [==============================] - 11s 1s/step - loss: 0.2997\n",
            "Epoch 49/100\n",
            "10/10 [==============================] - 14s 1s/step - loss: 0.2769\n",
            "Epoch 50/100\n",
            "10/10 [==============================] - 13s 1s/step - loss: 0.2817\n",
            "Epoch 51/100\n",
            "10/10 [==============================] - 10s 1s/step - loss: 0.2799\n",
            "Epoch 52/100\n",
            "10/10 [==============================] - 14s 1s/step - loss: 0.2594\n",
            "Epoch 53/100\n",
            "10/10 [==============================] - 13s 1s/step - loss: 0.2677\n",
            "Epoch 54/100\n",
            "10/10 [==============================] - 11s 1s/step - loss: 0.2530\n",
            "Epoch 55/100\n",
            "10/10 [==============================] - 13s 1s/step - loss: 0.2428\n",
            "Epoch 56/100\n",
            "10/10 [==============================] - 13s 1s/step - loss: 0.2506\n",
            "Epoch 57/100\n",
            "10/10 [==============================] - 11s 1s/step - loss: 0.2507\n",
            "Epoch 58/100\n",
            "10/10 [==============================] - 13s 1s/step - loss: 0.2318\n",
            "Epoch 59/100\n",
            "10/10 [==============================] - 13s 1s/step - loss: 0.2340\n",
            "Epoch 60/100\n",
            "10/10 [==============================] - 11s 1s/step - loss: 0.2323\n",
            "Epoch 61/100\n",
            "10/10 [==============================] - 13s 1s/step - loss: 0.2185\n",
            "Epoch 62/100\n",
            "10/10 [==============================] - 13s 1s/step - loss: 0.2151\n",
            "Epoch 63/100\n",
            "10/10 [==============================] - 10s 1s/step - loss: 0.2152\n",
            "Epoch 64/100\n",
            "10/10 [==============================] - 14s 1s/step - loss: 0.2045\n",
            "Epoch 65/100\n",
            "10/10 [==============================] - 13s 1s/step - loss: 0.2047\n",
            "Epoch 66/100\n",
            "10/10 [==============================] - 10s 1s/step - loss: 0.2064\n",
            "Epoch 67/100\n",
            "10/10 [==============================] - 14s 1s/step - loss: 0.1988\n",
            "Epoch 68/100\n",
            "10/10 [==============================] - 12s 1s/step - loss: 0.2034\n",
            "Epoch 69/100\n",
            "10/10 [==============================] - 11s 1s/step - loss: 0.1978\n",
            "Epoch 70/100\n",
            "10/10 [==============================] - 13s 1s/step - loss: 0.1896\n",
            "Epoch 71/100\n",
            "10/10 [==============================] - 13s 1s/step - loss: 0.1951\n",
            "Epoch 72/100\n",
            "10/10 [==============================] - 11s 1s/step - loss: 0.1932\n",
            "Epoch 73/100\n",
            "10/10 [==============================] - 13s 1s/step - loss: 0.1829\n",
            "Epoch 74/100\n",
            "10/10 [==============================] - 13s 1s/step - loss: 0.1863\n",
            "Epoch 75/100\n",
            "10/10 [==============================] - 11s 1s/step - loss: 0.1849\n",
            "Epoch 76/100\n",
            "10/10 [==============================] - 14s 1s/step - loss: 0.1760\n",
            "Epoch 77/100\n",
            "10/10 [==============================] - 13s 1s/step - loss: 0.1795\n",
            "Epoch 78/100\n",
            "10/10 [==============================] - 11s 1s/step - loss: 0.1760\n",
            "Epoch 79/100\n",
            "10/10 [==============================] - 13s 1s/step - loss: 0.1679\n",
            "Epoch 80/100\n",
            "10/10 [==============================] - 13s 1s/step - loss: 0.1748\n",
            "Epoch 81/100\n",
            "10/10 [==============================] - 11s 1s/step - loss: 0.1691\n",
            "Epoch 82/100\n",
            "10/10 [==============================] - 13s 1s/step - loss: 0.1642\n",
            "Epoch 83/100\n",
            "10/10 [==============================] - 13s 1s/step - loss: 0.1648\n",
            "Epoch 84/100\n",
            "10/10 [==============================] - 11s 1s/step - loss: 0.1672\n",
            "Epoch 85/100\n",
            "10/10 [==============================] - 14s 1s/step - loss: 0.1583\n",
            "Epoch 86/100\n",
            "10/10 [==============================] - 12s 1s/step - loss: 0.1654\n",
            "Epoch 87/100\n",
            "10/10 [==============================] - 11s 1s/step - loss: 0.1650\n",
            "Epoch 88/100\n",
            "10/10 [==============================] - 13s 1s/step - loss: 0.1550\n",
            "Epoch 89/100\n",
            "10/10 [==============================] - 13s 1s/step - loss: 0.1575\n",
            "Epoch 90/100\n",
            "10/10 [==============================] - 11s 1s/step - loss: 0.1563\n",
            "Epoch 91/100\n",
            "10/10 [==============================] - 13s 1s/step - loss: 0.1496\n",
            "Epoch 92/100\n",
            "10/10 [==============================] - 13s 1s/step - loss: 0.1532\n",
            "Epoch 93/100\n",
            "10/10 [==============================] - 10s 1s/step - loss: 0.1563\n",
            "Epoch 94/100\n",
            "10/10 [==============================] - 14s 1s/step - loss: 0.1435\n",
            "Epoch 95/100\n",
            "10/10 [==============================] - 12s 1s/step - loss: 0.1496\n",
            "Epoch 96/100\n",
            "10/10 [==============================] - 12s 1s/step - loss: 0.1483\n",
            "Epoch 97/100\n",
            "10/10 [==============================] - 13s 1s/step - loss: 0.1455\n",
            "Epoch 98/100\n",
            "10/10 [==============================] - 13s 1s/step - loss: 0.1469\n",
            "Epoch 99/100\n",
            "10/10 [==============================] - 11s 1s/step - loss: 0.1434\n",
            "Epoch 100/100\n",
            "10/10 [==============================] - 14s 1s/step - loss: 0.1352\n"
          ]
        }
      ],
      "source": [
        "tmp_dataset = dataset_sequence_batches.repeat()\n",
        "    \n",
        "history = model.fit(\n",
        "    x=tmp_dataset.as_numpy_iterator(),\n",
        "    epochs=EPOCHS,\n",
        "    steps_per_epoch=STEPS_PER_EPOCH,\n",
        "    callbacks=[\n",
        "        checkpoint_callback\n",
        "    ]\n",
        ")"
      ]
    },
    {
      "cell_type": "code",
      "execution_count": null,
      "metadata": {
        "id": "mLdnOyvzMggJ"
      },
      "outputs": [],
      "source": [
        "def render_training_history(training_history):\n",
        "    loss = training_history.history['loss']\n",
        "    plt.title('Loss')\n",
        "    plt.xlabel('Epoch')\n",
        "    plt.ylabel('Loss')\n",
        "    plt.plot(loss, label='Training set')\n",
        "    plt.legend()\n",
        "    plt.grid(linestyle='--', linewidth=1, alpha=0.5)\n",
        "    plt.show()"
      ]
    },
    {
      "cell_type": "code",
      "execution_count": null,
      "metadata": {
        "id": "4Ghveem_OQBV",
        "colab": {
          "base_uri": "https://localhost:8080/",
          "height": 295
        },
        "outputId": "6146e20a-faea-44b9-931e-89522510d5bc"
      },
      "outputs": [
        {
          "output_type": "display_data",
          "data": {
            "text/plain": [
              "<Figure size 432x288 with 1 Axes>"
            ],
            "image/png": "[encoded data removed]"
          },
          "metadata": {
            "needs_background": "light"
          }
        }
      ],
      "source": [
        "render_training_history(history)"
      ]
    },
    {
      "cell_type": "markdown",
      "metadata": {
        "id": "X-dhNP2OG2EM"
      },
      "source": [
        "## Generate text"
      ]
    },
    {
      "cell_type": "markdown",
      "metadata": {
        "id": "SU_YfP6sG3NC"
      },
      "source": [
        "### Restore the latest checkpoint\n",
        "\n",
        "To keep this prediction step simple, use a batch size of 1.\n",
        "\n",
        "Because of the way the RNN state is passed from timestep to timestep, the model only accepts a fixed batch size once built.\n",
        "\n",
        "To run the model with a different `batch_size`, we need to rebuild the model and restore the weights from the checkpoint."
      ]
    },
    {
      "cell_type": "code",
      "execution_count": null,
      "metadata": {
        "id": "BlG8o3wiG6f2",
        "colab": {
          "base_uri": "https://localhost:8080/",
          "height": 37
        },
        "outputId": "1b18cb35-78c0-4667-90a1-2042cbd12704"
      },
      "outputs": [
        {
          "output_type": "execute_result",
          "data": {
            "text/plain": [
              "'drive/MyDrive/RNN-town/ckpt_100'"
            ],
            "application/vnd.google.colaboratory.intrinsic+json": {
              "type": "string"
            }
          },
          "metadata": {},
          "execution_count": 41
        }
      ],
      "source": [
        "tf.train.latest_checkpoint(checkpoint_dir)"
      ]
    },
    {
      "cell_type": "code",
      "execution_count": null,
      "metadata": {
        "id": "l7evN0LvH01P"
      },
      "outputs": [],
      "source": [
        "simplified_batch_size = 1\n",
        "\n",
        "restored_model = build_model(vocab_size, embedding_dim, rnn_units, batch_size=1)\n",
        "\n",
        "restored_model.load_weights(tf.train.latest_checkpoint(checkpoint_dir))\n",
        "\n",
        "restored_model.build(tf.TensorShape([simplified_batch_size, None]))"
      ]
    },
    {
      "cell_type": "code",
      "execution_count": null,
      "metadata": {
        "id": "Y3eduDtZI9zQ",
        "colab": {
          "base_uri": "https://localhost:8080/"
        },
        "outputId": "4ac29ec2-9262-4554-acfc-3a9ddb3ef727"
      },
      "outputs": [
        {
          "output_type": "stream",
          "name": "stdout",
          "text": [
            "Model: \"sequential_2\"\n",
            "_________________________________________________________________\n",
            " Layer (type)                Output Shape              Param #   \n",
            "=================================================================\n",
            " embedding_2 (Embedding)     (1, None, 256)            17152     \n",
            "                                                                 \n",
            " lstm_2 (LSTM)               (1, None, 1024)           5246976   \n",
            "                                                                 \n",
            " dropout_1 (Dropout)         (1, None, 1024)           0         \n",
            "                                                                 \n",
            " lstm_3 (LSTM)               (1, None, 1024)           8392704   \n",
            "                                                                 \n",
            " dense_1 (Dense)             (1, None, 67)             68675     \n",
            "                                                                 \n",
            "=================================================================\n",
            "Total params: 13,725,507\n",
            "Trainable params: 13,725,507\n",
            "Non-trainable params: 0\n",
            "_________________________________________________________________\n"
          ]
        }
      ],
      "source": [
        "restored_model.summary()"
      ]
    },
    {
      "cell_type": "markdown",
      "metadata": {
        "id": "euNvAtr4JC3A"
      },
      "source": [
        "### The prediction loop\n",
        "\n",
        "The following code block generates the text:\n",
        "\n",
        "- It Starts by choosing a start string, initializing the RNN state and setting the number of characters to generate.\n",
        "\n",
        "- Get the prediction distribution of the next character using the start string and the RNN state.\n",
        "\n",
        "- Then, use a categorical distribution to calculate the index of the predicted character. Use this predicted character as our next input to the model.\n",
        "\n",
        "- The RNN state returned by the model is fed back into the model so that it now has more context, instead than only one character. After predicting the next character, the modified RNN states are again fed back into the model, which is how it learns as it gets more context from the previously predicted characters.\n",
        "\n",
        "![Prediction loop](https://www.tensorflow.org/tutorials/text/images/text_generation_sampling.png)\n",
        "\n",
        "Image source: [Text generation with an RNN](https://www.tensorflow.org/tutorials/text/text_generation) notebook."
      ]
    },
    {
      "cell_type": "code",
      "execution_count": null,
      "metadata": {
        "id": "bOqdqGouJFf_"
      },
      "outputs": [],
      "source": [
        "# num_generate\n",
        "# - number of characters to generate.\n",
        "#\n",
        "# temperature\n",
        "# - Low temperatures results in more predictable text.\n",
        "# - Higher temperatures results in more surprising text.\n",
        "# - Experiment to find the best setting.\n",
        "def generate_text(model, start_string, num_generate = 1000, temperature=1.0):\n",
        "    # Evaluation step (generating text using the learned model)\n",
        "\n",
        "    # Converting our start string to numbers (vectorizing).\n",
        "    input_indices = [char2index[s] for s in start_string]\n",
        "    input_indices = tf.expand_dims(input_indices, 0)\n",
        "\n",
        "    # Empty string to store our results.\n",
        "    text_generated = []\n",
        "\n",
        "    # Here batch size == 1.\n",
        "    model.reset_states()\n",
        "    for char_index in range(num_generate):\n",
        "        predictions = model(input_indices)\n",
        "        # remove the batch dimension\n",
        "        predictions = tf.squeeze(predictions, 0)\n",
        "\n",
        "        # Using a categorical distribution to predict the character returned by the model.\n",
        "        predictions = predictions / temperature\n",
        "        predicted_id = tf.random.categorical(\n",
        "        predictions,\n",
        "        num_samples=1\n",
        "        )[-1,0].numpy()\n",
        "\n",
        "        # We pass the predicted character as the next input to the model\n",
        "        # along with the previous hidden state.\n",
        "        input_indices = tf.expand_dims([predicted_id], 0)\n",
        "\n",
        "        text_generated.append(index2char[predicted_id])\n",
        "\n",
        "    return (start_string + ''.join(text_generated))"
      ]
    },
    {
      "cell_type": "code",
      "execution_count": null,
      "metadata": {
        "id": "pG6drw2ed6pm",
        "colab": {
          "base_uri": "https://localhost:8080/",
          "height": 528
        },
        "outputId": "72fe3528-0237-4ca6-b23f-16161d84e3e7"
      },
      "outputs": [
        {
          "output_type": "stream",
          "name": "stdout",
          "text": [
            "Temperature: 0.2\n",
            "---\n"
          ]
        },
        {
          "output_type": "error",
          "ename": "InvalidArgumentError",
          "evalue": "ignored",
          "traceback": [
            "\u001b[0;31m---------------------------------------------------------------------------\u001b[0m",
            "\u001b[0;31mInvalidArgumentError\u001b[0m                      Traceback (most recent call last)",
            "\u001b[0;32m<ipython-input-46-bbc64149ed17>\u001b[0m in \u001b[0;36m<module>\u001b[0;34m()\u001b[0m\n\u001b[1;32m      7\u001b[0m     \u001b[0mprint\u001b[0m\u001b[0;34m(\u001b[0m\u001b[0;34m\"Temperature: {}\"\u001b[0m\u001b[0;34m.\u001b[0m\u001b[0mformat\u001b[0m\u001b[0;34m(\u001b[0m\u001b[0mtemperature\u001b[0m\u001b[0;34m)\u001b[0m\u001b[0;34m)\u001b[0m\u001b[0;34m\u001b[0m\u001b[0;34m\u001b[0m\u001b[0m\n\u001b[1;32m      8\u001b[0m     \u001b[0mprint\u001b[0m\u001b[0;34m(\u001b[0m\u001b[0;34m'---'\u001b[0m\u001b[0;34m)\u001b[0m\u001b[0;34m\u001b[0m\u001b[0;34m\u001b[0m\u001b[0m\n\u001b[0;32m----> 9\u001b[0;31m     \u001b[0mprint\u001b[0m\u001b[0;34m(\u001b[0m\u001b[0mgenerate_text\u001b[0m\u001b[0;34m(\u001b[0m\u001b[0mrestored_model\u001b[0m\u001b[0;34m,\u001b[0m \u001b[0mstart_string\u001b[0m\u001b[0;34m,\u001b[0m \u001b[0mnum_generate\u001b[0m\u001b[0;34m=\u001b[0m\u001b[0mnum_generate\u001b[0m\u001b[0;34m,\u001b[0m \u001b[0mtemperature\u001b[0m\u001b[0;34m=\u001b[0m\u001b[0mtemperature\u001b[0m\u001b[0;34m)\u001b[0m\u001b[0;34m)\u001b[0m\u001b[0;34m\u001b[0m\u001b[0;34m\u001b[0m\u001b[0m\n\u001b[0m\u001b[1;32m     10\u001b[0m     \u001b[0mprint\u001b[0m\u001b[0;34m(\u001b[0m\u001b[0;34m'\\n'\u001b[0m\u001b[0;34m)\u001b[0m\u001b[0;34m\u001b[0m\u001b[0;34m\u001b[0m\u001b[0m\n",
            "\u001b[0;32m<ipython-input-44-d21e10d87000>\u001b[0m in \u001b[0;36mgenerate_text\u001b[0;34m(model, start_string, num_generate, temperature)\u001b[0m\n\u001b[1;32m     19\u001b[0m     \u001b[0mmodel\u001b[0m\u001b[0;34m.\u001b[0m\u001b[0mreset_states\u001b[0m\u001b[0;34m(\u001b[0m\u001b[0;34m)\u001b[0m\u001b[0;34m\u001b[0m\u001b[0;34m\u001b[0m\u001b[0m\n\u001b[1;32m     20\u001b[0m     \u001b[0;32mfor\u001b[0m \u001b[0mchar_index\u001b[0m \u001b[0;32min\u001b[0m \u001b[0mrange\u001b[0m\u001b[0;34m(\u001b[0m\u001b[0mnum_generate\u001b[0m\u001b[0;34m)\u001b[0m\u001b[0;34m:\u001b[0m\u001b[0;34m\u001b[0m\u001b[0;34m\u001b[0m\u001b[0m\n\u001b[0;32m---> 21\u001b[0;31m         \u001b[0mpredictions\u001b[0m \u001b[0;34m=\u001b[0m \u001b[0mmodel\u001b[0m\u001b[0;34m(\u001b[0m\u001b[0minput_indices\u001b[0m\u001b[0;34m)\u001b[0m\u001b[0;34m\u001b[0m\u001b[0;34m\u001b[0m\u001b[0m\n\u001b[0m\u001b[1;32m     22\u001b[0m         \u001b[0;31m# remove the batch dimension\u001b[0m\u001b[0;34m\u001b[0m\u001b[0;34m\u001b[0m\u001b[0;34m\u001b[0m\u001b[0m\n\u001b[1;32m     23\u001b[0m         \u001b[0mpredictions\u001b[0m \u001b[0;34m=\u001b[0m \u001b[0mtf\u001b[0m\u001b[0;34m.\u001b[0m\u001b[0msqueeze\u001b[0m\u001b[0;34m(\u001b[0m\u001b[0mpredictions\u001b[0m\u001b[0;34m,\u001b[0m \u001b[0;36m0\u001b[0m\u001b[0;34m)\u001b[0m\u001b[0;34m\u001b[0m\u001b[0;34m\u001b[0m\u001b[0m\n",
            "\u001b[0;32m/usr/local/lib/python3.7/dist-packages/keras/utils/traceback_utils.py\u001b[0m in \u001b[0;36merror_handler\u001b[0;34m(*args, **kwargs)\u001b[0m\n\u001b[1;32m     65\u001b[0m     \u001b[0;32mexcept\u001b[0m \u001b[0mException\u001b[0m \u001b[0;32mas\u001b[0m \u001b[0me\u001b[0m\u001b[0;34m:\u001b[0m  \u001b[0;31m# pylint: disable=broad-except\u001b[0m\u001b[0;34m\u001b[0m\u001b[0;34m\u001b[0m\u001b[0m\n\u001b[1;32m     66\u001b[0m       \u001b[0mfiltered_tb\u001b[0m \u001b[0;34m=\u001b[0m \u001b[0m_process_traceback_frames\u001b[0m\u001b[0;34m(\u001b[0m\u001b[0me\u001b[0m\u001b[0;34m.\u001b[0m\u001b[0m__traceback__\u001b[0m\u001b[0;34m)\u001b[0m\u001b[0;34m\u001b[0m\u001b[0;34m\u001b[0m\u001b[0m\n\u001b[0;32m---> 67\u001b[0;31m       \u001b[0;32mraise\u001b[0m \u001b[0me\u001b[0m\u001b[0;34m.\u001b[0m\u001b[0mwith_traceback\u001b[0m\u001b[0;34m(\u001b[0m\u001b[0mfiltered_tb\u001b[0m\u001b[0;34m)\u001b[0m \u001b[0;32mfrom\u001b[0m \u001b[0;32mNone\u001b[0m\u001b[0;34m\u001b[0m\u001b[0;34m\u001b[0m\u001b[0m\n\u001b[0m\u001b[1;32m     68\u001b[0m     \u001b[0;32mfinally\u001b[0m\u001b[0;34m:\u001b[0m\u001b[0;34m\u001b[0m\u001b[0;34m\u001b[0m\u001b[0m\n\u001b[1;32m     69\u001b[0m       \u001b[0;32mdel\u001b[0m \u001b[0mfiltered_tb\u001b[0m\u001b[0;34m\u001b[0m\u001b[0;34m\u001b[0m\u001b[0m\n",
            "\u001b[0;32m/usr/local/lib/python3.7/dist-packages/tensorflow/python/eager/execute.py\u001b[0m in \u001b[0;36mquick_execute\u001b[0;34m(op_name, num_outputs, inputs, attrs, ctx, name)\u001b[0m\n\u001b[1;32m     53\u001b[0m     \u001b[0mctx\u001b[0m\u001b[0;34m.\u001b[0m\u001b[0mensure_initialized\u001b[0m\u001b[0;34m(\u001b[0m\u001b[0;34m)\u001b[0m\u001b[0;34m\u001b[0m\u001b[0;34m\u001b[0m\u001b[0m\n\u001b[1;32m     54\u001b[0m     tensors = pywrap_tfe.TFE_Py_Execute(ctx._handle, device_name, op_name,\n\u001b[0;32m---> 55\u001b[0;31m                                         inputs, attrs, num_outputs)\n\u001b[0m\u001b[1;32m     56\u001b[0m   \u001b[0;32mexcept\u001b[0m \u001b[0mcore\u001b[0m\u001b[0;34m.\u001b[0m\u001b[0m_NotOkStatusException\u001b[0m \u001b[0;32mas\u001b[0m \u001b[0me\u001b[0m\u001b[0;34m:\u001b[0m\u001b[0;34m\u001b[0m\u001b[0;34m\u001b[0m\u001b[0m\n\u001b[1;32m     57\u001b[0m     \u001b[0;32mif\u001b[0m \u001b[0mname\u001b[0m \u001b[0;32mis\u001b[0m \u001b[0;32mnot\u001b[0m \u001b[0;32mNone\u001b[0m\u001b[0;34m:\u001b[0m\u001b[0;34m\u001b[0m\u001b[0;34m\u001b[0m\u001b[0m\n",
            "\u001b[0;31mInvalidArgumentError\u001b[0m: Exception encountered when calling layer \"lstm_2\" (type LSTM).\n\nmax_seq_length <= 0 [Op:CudnnRNN]\n\nCall arguments received:\n  • inputs=tf.Tensor(shape=(1, 0, 256), dtype=float32)\n  • mask=None\n  • training=False\n  • initial_state=None"
          ]
        }
      ],
      "source": [
        "num_generate = 500\n",
        "temperatures = [0.2, 0.4, 0.6, 0.8, 1.0, 1.2]\n",
        "#temperatures = [0.1, 0.2, 0.3, 0.4, 0.5]\n",
        "start_string = ''\n",
        "\n",
        "for temperature in temperatures:\n",
        "    print(\"Temperature: {}\".format(temperature))\n",
        "    print('---')\n",
        "    print(generate_text(restored_model, start_string, num_generate=num_generate, temperature=temperature))\n",
        "    print('\\n')"
      ]
    },
    {
      "cell_type": "code",
      "source": [
        "result = generate_text(restored_model, \" \", num_generate=10000, temperature=1.0)"
      ],
      "metadata": {
        "id": "E8pJqM7eWpav"
      },
      "execution_count": null,
      "outputs": []
    },
    {
      "cell_type": "code",
      "source": [
        "result = result.replace(\" \",\",\")"
      ],
      "metadata": {
        "id": "zMvTTON_1Cdx"
      },
      "execution_count": null,
      "outputs": []
    },
    {
      "cell_type": "code",
      "source": [
        "result_df = pd.DataFrame(list(result.split(\",\")))\n",
        "result_df"
      ],
      "metadata": {
        "colab": {
          "base_uri": "https://localhost:8080/",
          "height": 419
        },
        "id": "uViFrtwxbDFI",
        "outputId": "6a0ec409-0166-466f-de6c-0b009b836cbb"
      },
      "execution_count": null,
      "outputs": [
        {
          "output_type": "execute_result",
          "data": {
            "text/plain": [
              "                             0\n",
              "0                             \n",
              "1           Mümliswil-Ramiswil\n",
              "2     Welschenrohr-Gänsbrunnen\n",
              "3                      Biezwil\n",
              "4                    Engelberg\n",
              "...                        ...\n",
              "1098                  Eggenwil\n",
              "1099            Fischbach-Gösl\n",
              "1100               Reigoldswil\n",
              "1101                 Titterten\n",
              "1102                       Wal\n",
              "\n",
              "[1103 rows x 1 columns]"
            ],
            "text/html": [
              "\n",
              "  <div id=\"df-1dee3927-6bb9-41bb-a045-b8c7a4486930\">\n",
              "    <div class=\"colab-df-container\">\n",
              "      <div>\n",
              "<style scoped>\n",
              "    .dataframe tbody tr th:only-of-type {\n",
              "        vertical-align: middle;\n",
              "    }\n",
              "\n",
              "    .dataframe tbody tr th {\n",
              "        vertical-align: top;\n",
              "    }\n",
              "\n",
              "    .dataframe thead th {\n",
              "        text-align: right;\n",
              "    }\n",
              "</style>\n",
              "<table border=\"1\" class=\"dataframe\">\n",
              "  <thead>\n",
              "    <tr style=\"text-align: right;\">\n",
              "      <th></th>\n",
              "      <th>0</th>\n",
              "    </tr>\n",
              "  </thead>\n",
              "  <tbody>\n",
              "    <tr>\n",
              "      <th>0</th>\n",
              "      <td></td>\n",
              "    </tr>\n",
              "    <tr>\n",
              "      <th>1</th>\n",
              "      <td>Mümliswil-Ramiswil</td>\n",
              "    </tr>\n",
              "    <tr>\n",
              "      <th>2</th>\n",
              "      <td>Welschenrohr-Gänsbrunnen</td>\n",
              "    </tr>\n",
              "    <tr>\n",
              "      <th>3</th>\n",
              "      <td>Biezwil</td>\n",
              "    </tr>\n",
              "    <tr>\n",
              "      <th>4</th>\n",
              "      <td>Engelberg</td>\n",
              "    </tr>\n",
              "    <tr>\n",
              "      <th>...</th>\n",
              "      <td>...</td>\n",
              "    </tr>\n",
              "    <tr>\n",
              "      <th>1098</th>\n",
              "      <td>Eggenwil</td>\n",
              "    </tr>\n",
              "    <tr>\n",
              "      <th>1099</th>\n",
              "      <td>Fischbach-Gösl</td>\n",
              "    </tr>\n",
              "    <tr>\n",
              "      <th>1100</th>\n",
              "      <td>Reigoldswil</td>\n",
              "    </tr>\n",
              "    <tr>\n",
              "      <th>1101</th>\n",
              "      <td>Titterten</td>\n",
              "    </tr>\n",
              "    <tr>\n",
              "      <th>1102</th>\n",
              "      <td>Wal</td>\n",
              "    </tr>\n",
              "  </tbody>\n",
              "</table>\n",
              "<p>1103 rows × 1 columns</p>\n",
              "</div>\n",
              "      <button class=\"colab-df-convert\" onclick=\"convertToInteractive('df-1dee3927-6bb9-41bb-a045-b8c7a4486930')\"\n",
              "              title=\"Convert this dataframe to an interactive table.\"\n",
              "              style=\"display:none;\">\n",
              "        \n",
              "  <svg xmlns=\"http://www.w3.org/2000/svg\" height=\"24px\"viewBox=\"0 0 24 24\"\n",
              "       width=\"24px\">\n",
              "    <path d=\"M0 0h24v24H0V0z\" fill=\"none\"/>\n",
              "    <path d=\"M18.56 5.44l.94 2.06.94-2.06 2.06-.94-2.06-.94-.94-2.06-.94 2.06-2.06.94zm-11 1L8.5 8.5l.94-2.06 2.06-.94-2.06-.94L8.5 2.5l-.94 2.06-2.06.94zm10 10l.94 2.06.94-2.06 2.06-.94-2.06-.94-.94-2.06-.94 2.06-2.06.94z\"/><path d=\"M17.41 7.96l-1.37-1.37c-.4-.4-.92-.59-1.43-.59-.52 0-1.04.2-1.43.59L10.3 9.45l-7.72 7.72c-.78.78-.78 2.05 0 2.83L4 21.41c.39.39.9.59 1.41.59.51 0 1.02-.2 1.41-.59l7.78-7.78 2.81-2.81c.8-.78.8-2.07 0-2.86zM5.41 20L4 18.59l7.72-7.72 1.47 1.35L5.41 20z\"/>\n",
              "  </svg>\n",
              "      </button>\n",
              "      \n",
              "  <style>\n",
              "    .colab-df-container {\n",
              "      display:flex;\n",
              "      flex-wrap:wrap;\n",
              "      gap: 12px;\n",
              "    }\n",
              "\n",
              "    .colab-df-convert {\n",
              "      background-color: #E8F0FE;\n",
              "      border: none;\n",
              "      border-radius: 50%;\n",
              "      cursor: pointer;\n",
              "      display: none;\n",
              "      fill: #1967D2;\n",
              "      height: 32px;\n",
              "      padding: 0 0 0 0;\n",
              "      width: 32px;\n",
              "    }\n",
              "\n",
              "    .colab-df-convert:hover {\n",
              "      background-color: #E2EBFA;\n",
              "      box-shadow: 0px 1px 2px rgba(60, 64, 67, 0.3), 0px 1px 3px 1px rgba(60, 64, 67, 0.15);\n",
              "      fill: #174EA6;\n",
              "    }\n",
              "\n",
              "    [theme=dark] .colab-df-convert {\n",
              "      background-color: #3B4455;\n",
              "      fill: #D2E3FC;\n",
              "    }\n",
              "\n",
              "    [theme=dark] .colab-df-convert:hover {\n",
              "      background-color: #434B5C;\n",
              "      box-shadow: 0px 1px 3px 1px rgba(0, 0, 0, 0.15);\n",
              "      filter: drop-shadow(0px 1px 2px rgba(0, 0, 0, 0.3));\n",
              "      fill: #FFFFFF;\n",
              "    }\n",
              "  </style>\n",
              "\n",
              "      <script>\n",
              "        const buttonEl =\n",
              "          document.querySelector('#df-1dee3927-6bb9-41bb-a045-b8c7a4486930 button.colab-df-convert');\n",
              "        buttonEl.style.display =\n",
              "          google.colab.kernel.accessAllowed ? 'block' : 'none';\n",
              "\n",
              "        async function convertToInteractive(key) {\n",
              "          const element = document.querySelector('#df-1dee3927-6bb9-41bb-a045-b8c7a4486930');\n",
              "          const dataTable =\n",
              "            await google.colab.kernel.invokeFunction('convertToInteractive',\n",
              "                                                     [key], {});\n",
              "          if (!dataTable) return;\n",
              "\n",
              "          const docLinkHtml = 'Like what you see? Visit the ' +\n",
              "            '<a target=\"_blank\" href=https://colab.research.google.com/notebooks/data_table.ipynb>data table notebook</a>'\n",
              "            + ' to learn more about interactive tables.';\n",
              "          element.innerHTML = '';\n",
              "          dataTable['output_type'] = 'display_data';\n",
              "          await google.colab.output.renderOutput(dataTable, element);\n",
              "          const docLink = document.createElement('div');\n",
              "          docLink.innerHTML = docLinkHtml;\n",
              "          element.appendChild(docLink);\n",
              "        }\n",
              "      </script>\n",
              "    </div>\n",
              "  </div>\n",
              "  "
            ]
          },
          "metadata": {},
          "execution_count": 62
        }
      ]
    },
    {
      "cell_type": "code",
      "source": [
        "result_df.to_csv(\"generated_towns.csv\",index=False)"
      ],
      "metadata": {
        "id": "S5_z-tTjb8wk"
      },
      "execution_count": null,
      "outputs": []
    },
    {
      "cell_type": "markdown",
      "metadata": {
        "id": "0hh80MqEO_XI"
      },
      "source": [
        "## Save the model"
      ]
    },
    {
      "cell_type": "code",
      "execution_count": null,
      "metadata": {
        "id": "VPE98xa8PA-u"
      },
      "outputs": [],
      "source": [
        "model_name = 'text_generation_town_names_rnn.h5'\n",
        "restored_model.save(model_name, save_format='h5')"
      ]
    },
    {
      "cell_type": "markdown",
      "metadata": {
        "id": "WYP08xbbTNKp"
      },
      "source": [
        "## Converting the model to web-format\n",
        "\n",
        "To use this model on the web we need to convert it into the format that will be understandable by [tensorflowjs](https://www.tensorflow.org/js). To do so we may use [tfjs-converter](https://github.com/tensorflow/tfjs/tree/master/tfjs-converter) as following:\n",
        "\n",
        "```\n",
        "tensorflowjs_converter --input_format keras \\\n",
        "  ./experiments/text_generation_wikipedia_rnn/text_generation_wikipedia_rnn.h5 \\\n",
        "  ./demos/public/models/text_generation_wikipedia_rnn\n",
        "```\n",
        "\n",
        "You find this experiment in the [Demo app](https://trekhleb.github.io/machine-learning-experiments) and play around with it right in you browser to see how the model performs in real life."
      ]
    }
  ],
  "metadata": {
    "accelerator": "GPU",
    "colab": {
      "collapsed_sections": [],
      "name": "RNN - Town Name Generation",
      "provenance": [],
      "include_colab_link": true
    },
    "kernelspec": {
      "display_name": "Python 3",
      "language": "python",
      "name": "python3"
    },
    "language_info": {
      "codemirror_mode": {
        "name": "ipython",
        "version": 3
      },
      "file_extension": ".py",
      "mimetype": "text/x-python",
      "name": "python",
      "nbconvert_exporter": "python",
      "pygments_lexer": "ipython3",
      "version": "3.7.6"
    },
    "gpuClass": "standard"
  },
  "nbformat": 4,
  "nbformat_minor": 0
}